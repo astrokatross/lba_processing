{
 "cells": [
  {
   "cell_type": "code",
   "execution_count": 1,
   "metadata": {},
   "outputs": [],
   "source": [
    "import numpy as np\n",
    "import matplotlib.pyplot as plt\n",
    "from astropy.table import Table\n",
    "import cmasher as cmr\n",
    "import CFigTools.CustomFigure as CF\n",
    "import gpscssmodels\n",
    "import pandas as pd\n",
    "import plotting_functions"
   ]
  },
  {
   "cell_type": "code",
   "execution_count": 2,
   "metadata": {},
   "outputs": [],
   "source": [
    "# Paths and non-changing variables \n",
    "master_data_dir = \"/data/raw_data/\"\n",
    "data_dir = \"/data/LBA/catalogues/\"\n",
    "frequencies = [\"2GHz\", \"8GHz\"]\n",
    "lba_targets = [\"j0227-0621\", \"j0322-482\", \"j2239-451\"]\n",
    "mwa_targets = [\"GLEAM J022744-062106\", \"GLEAM J032237-482010\", \"GLEAM J223933-451414\"]\n",
    "\n"
   ]
  },
  {
   "cell_type": "code",
   "execution_count": 3,
   "metadata": {},
   "outputs": [],
   "source": [
    "# Setting arrays for masks and extracting sources\n",
    "exts = [\n",
    "    \"107\",\n",
    "    \"115\",\n",
    "    \"123\",\n",
    "    \"130\",\n",
    "    \"143\",\n",
    "    \"150\",\n",
    "    \"158\",\n",
    "    \"166\",\n",
    "    \"174\",\n",
    "    \"181\",\n",
    "    \"189\",\n",
    "    \"197\",\n",
    "    \"204\",\n",
    "    \"212\",\n",
    "    \"220\",\n",
    "    \"227\",\n",
    "]\n",
    "mwa_mask_names = [\"Name\", \"S_076\", \"S_084\", \"S_092\", \"S_099\",\"S_076_err\", \"S_084_err\", \"S_092_err\", \"S_099_err\"]\n",
    "mwa_2013_fluxes = [\"S_076\", \"S_084\", \"S_092\", \"S_099\"]\n",
    "mwa_2014_fluxes = []\n",
    "mwa_2013_errors = [\"S_076_err\", \"S_084_err\", \"S_092_err\", \"S_099_err\"]\n",
    "mwa_2014_errors = []\n",
    "for ext in exts:\n",
    "    mwa_mask_names.extend((f\"S_{ext}_yr1\", f\"S_{ext}_yr2\",f\"local_rms_{ext}_yr1\", f\"local_rms_{ext}_yr2\"))\n",
    "    mwa_2013_fluxes.append(f\"S_{ext}_yr1\")\n",
    "    mwa_2014_fluxes.append(f\"S_{ext}_yr2\")\n",
    "    mwa_2013_errors.append(f\"local_rms_{ext}_yr1\")\n",
    "    mwa_2014_errors.append(f\"local_rms_{ext}_yr2\")\n",
    "# Extras\n",
    "xtra_fluxes = [\n",
    "    \"S_tgss\",\n",
    "    \"S_mrc\",\n",
    "    \"S_sumss\",\n",
    "    \"S_nvss\",\n",
    "    \"S_vlssr\",\n",
    "    \"S20\",\n",
    "    \"S8\",\n",
    "    \"S5\",\n",
    "    \"total_flux_source\",  # RACS\n",
    "]"
   ]
  },
  {
   "cell_type": "code",
   "execution_count": 4,
   "metadata": {},
   "outputs": [
    {
     "name": "stdout",
     "output_type": "stream",
     "text": [
      "[0.28222173 0.35457686 0.30922073 0.28430387 0.41807082 0.36974546\n",
      " 0.41494986 0.4548864  0.46420056 0.47677046 0.50158477 0.50865954\n",
      " 0.5301754  0.54209995 0.5545837  0.5552021  0.5342091  0.5670117\n",
      " 0.5414796  0.56120336]\n",
      "['GLEAM J022744-062106' 0.28222173 0.35457686 0.30922073 0.28430387\n",
      " 0.08509528 0.06430224 0.05570395 0.05481943 0.41807082 0.2810934\n",
      " 0.038487468 0.031815585 0.36974546 0.28716403 0.03184621 0.025730874\n",
      " 0.41494986 0.34148353 0.0305772 0.022218546 0.4548864 0.35462028\n",
      " 0.028244225 0.021078106 0.46420056 0.36847794 0.017901305 0.014526561\n",
      " 0.47677046 0.40623057 0.016408706 0.012181905 0.50158477 0.4077316\n",
      " 0.015134427 0.010965364 0.50865954 0.4111097 0.013937391 0.01024465\n",
      " 0.5301754 0.42966878 0.015192327 0.010483272 0.54209995 0.4484246\n",
      " 0.014547369 0.009412393 0.5545837 0.44635257 0.013424073 0.008574207\n",
      " 0.5552021 0.44736254 0.013163328 0.008555906 0.5342091 0.4576202\n",
      " 0.015675183 0.0097518135 0.5670117 0.46242118 0.01567657 0.009869933\n",
      " 0.5414796 0.46472543 0.015558687 0.009648364 0.56120336 0.47517616\n",
      " 0.01648917 0.009869003]\n"
     ]
    }
   ],
   "source": [
    "master_pop_pd = pd.read_csv(f\"{master_data_dir}/master_pop_extended.csv\")\n",
    "# master_pop_pd = Table.read(f\"{master_data_dir}/master_pop_extended.fits\")\n",
    "lba_mask = master_pop_pd[\"Name\"].isin(mwa_targets)\n",
    "lba_master_pop = master_pop_pd[lba_mask]\n",
    "lbapop_extra_fluxes = lba_master_pop[xtra_fluxes]\n",
    "lba_pop = lba_master_pop[mwa_mask_names]\n",
    "print(np.squeeze(lba_master_pop.loc[lba_master_pop[\"Name\"]==mwa_targets[0]][mwa_2013_fluxes].to_numpy()))\n",
    "print(np.squeeze(lba_pop.loc[lba_pop[\"Name\"]==mwa_targets[0]].to_numpy()))\n",
    "# print(lba_master_pop.loc[lba_master_pop[\"Name\"]==mwa_targets[0]])"
   ]
  },
  {
   "cell_type": "code",
   "execution_count": 5,
   "metadata": {},
   "outputs": [
    {
     "name": "stdout",
     "output_type": "stream",
     "text": [
      "(9,)\n"
     ]
    }
   ],
   "source": [
    "src_13_fluxes = np.squeeze(lba_master_pop.loc[lba_master_pop[\"Name\"]==mwa_targets[0]][mwa_2013_fluxes].to_numpy())\n",
    "src_14_fluxes = np.squeeze(lba_master_pop.loc[lba_master_pop[\"Name\"]==mwa_targets[0]][mwa_2014_fluxes].to_numpy())\n",
    "src_14_fluxes = np.insert(src_14_fluxes, 0, [np.nan, np.nan, np.nan, np.nan])\n",
    "src_13_errs = np.squeeze(lba_master_pop.loc[lba_master_pop[\"Name\"]==mwa_targets[0]][mwa_2013_errors].to_numpy())\n",
    "src_14_errs = np.squeeze(lba_master_pop.loc[lba_master_pop[\"Name\"]==mwa_targets[0]][mwa_2014_errors].to_numpy())\n",
    "src_14_errs = np.insert(src_14_errs, 0, [np.nan, np.nan, np.nan, np.nan])\n",
    "extra_fluxes = np.squeeze(lba_master_pop.loc[lba_master_pop[\"Name\"]==mwa_targets[0]][xtra_fluxes].to_numpy())\n",
    "print(np.shape(extra_fluxes))\n",
    "extra_fluxes[0] = extra_fluxes[0]*0.001\n",
    "extra_fluxes[2] = extra_fluxes[2]*0.001\n",
    "extra_fluxes[3] = extra_fluxes[3]*0.001\n",
    "extra_fluxes[5] = extra_fluxes[5]*0.001\n",
    "extra_fluxes[6] = extra_fluxes[6]*0.001\n",
    "extra_fluxes[7] = extra_fluxes[7]*0.001\n",
    "extra_fluxes[8] = extra_fluxes[8]*0.001\n",
    "    "
   ]
  },
  {
   "cell_type": "code",
   "execution_count": 6,
   "metadata": {},
   "outputs": [
    {
     "name": "stdout",
     "output_type": "stream",
     "text": [
      "island source   background   local_rms   ...    psf_a       psf_b       psf_pa \n",
      "------ ------ ------------- ------------ ... ----------- ------------ ---------\n",
      "     1      0 0.00057751953 0.0035204089 ... 0.009568015 0.0031954367  6.955581\n",
      "     2      0   0.000444626 0.0033355528 ... 0.009568015 0.0031954367 6.9555817\n",
      "     3      0 0.00046352297 0.0034423615 ... 0.009568015 0.0031954367 6.9555826\n",
      "No catalogue for j0322-482 2GHz\n",
      "No catalogue for j2239-451 2GHz\n",
      "[array([0.07550298, 0.21996112, 0.10833634], dtype=float32)]\n",
      "island source   background   local_rms   ...    psf_a        psf_b      psf_pa \n",
      "------ ------ ------------- ------------ ... ------------ ----------- ---------\n",
      "     1      0   2.41316e-05 0.0012398985 ... 0.0038990302 0.001737589 8.1431875\n",
      "     2      0  9.810134e-06 0.0013578946 ... 0.0038990302 0.001737589  8.143188\n",
      "     3      0 2.6209766e-05 0.0012140629 ... 0.0038990302 0.001737589  8.143189\n",
      "No catalogue for j0322-482 8GHz\n",
      "No catalogue for j2239-451 8GHz\n",
      "[array([0.01571961, 0.0618064 , 0.02398661], dtype=float32)]\n"
     ]
    }
   ],
   "source": [
    "# Will need to be made general\n",
    "\n",
    "lba_2ghz_flux = []\n",
    "local_rms = []\n",
    "for tar in lba_targets:\n",
    "    try:\n",
    "        t = Table.read(f\"{data_dir}{tar}_2GHz.fits\")\n",
    "        print(t)\n",
    "        lba_2ghz_flux.append(np.squeeze(np.array(t[\"int_flux\"])))\n",
    "        local_rms.append(np.array(t[\"local_rms\"]))\n",
    "        \n",
    "    except FileNotFoundError:\n",
    "        print(f\"No catalogue for {tar} 2GHz\")\n",
    "\n",
    "print(lba_2ghz_flux)\n",
    "\n",
    "lba_8ghz_flux = []\n",
    "local_rms = []\n",
    "for tar in lba_targets:\n",
    "    try:\n",
    "        t = Table.read(f\"{data_dir}{tar}_8GHz.fits\")\n",
    "        print(t)\n",
    "        lba_8ghz_flux.append(np.squeeze(np.array(t[\"int_flux\"])))\n",
    "        local_rms.append(np.array(t[\"local_rms\"]))\n",
    "        \n",
    "    except FileNotFoundError:\n",
    "        print(f\"No catalogue for {tar} 8GHz\")\n",
    "\n",
    "print(lba_8ghz_flux)"
   ]
  },
  {
   "cell_type": "code",
   "execution_count": 7,
   "metadata": {},
   "outputs": [
    {
     "name": "stdout",
     "output_type": "stream",
     "text": [
      "0.075502984\n",
      "0.21996112\n",
      "0.108336344\n"
     ]
    },
    {
     "data": {
      "text/plain": [
       "<Figure size 432x288 with 0 Axes>"
      ]
     },
     "metadata": {},
     "output_type": "display_data"
    }
   ],
   "source": [
    "import plotting_functions\n",
    "src_fluxes = [src_13_fluxes, src_14_fluxes]\n",
    "err_src_fluxes = [src_13_errs, src_14_errs]\n",
    "lba_2ghz_flux = lba_2ghz_flux[0]\n",
    "lba_8ghz_flux = lba_8ghz_flux[0]\n",
    "for i in range(len(lba_2ghz_flux)):\n",
    "    print(lba_2ghz_flux[i])\n",
    "plotting_functions.plt_sed(\"/data/LBA/plots/\", mwa_targets[0], src_fluxes, err_src_fluxes, extra_fluxes,lba_2ghz_flux, lba_8ghz_flux, frequency=np.array(\n",
    "        [\n",
    "            0.076,\n",
    "            0.084,\n",
    "            0.092,\n",
    "            0.099,\n",
    "            0.107,\n",
    "            0.115,\n",
    "            0.122,\n",
    "            0.130,\n",
    "            0.143,\n",
    "            0.151,\n",
    "            0.158,\n",
    "            0.166,\n",
    "            0.174,\n",
    "            0.181,\n",
    "            0.189,\n",
    "            0.197,\n",
    "            0.204,\n",
    "            0.212,\n",
    "            0.220,\n",
    "            0.227]))"
   ]
  },
  {
   "cell_type": "markdown",
   "metadata": {},
   "source": []
  }
 ],
 "metadata": {
  "interpreter": {
   "hash": "31f2aee4e71d21fbe5cf8b01ff0e069b9275f58929596ceb00d14d90e3e16cd6"
  },
  "kernelspec": {
   "display_name": "Python 3.8.10 64-bit",
   "language": "python",
   "name": "python3"
  },
  "language_info": {
   "codemirror_mode": {
    "name": "ipython",
    "version": 3
   },
   "file_extension": ".py",
   "mimetype": "text/x-python",
   "name": "python",
   "nbconvert_exporter": "python",
   "pygments_lexer": "ipython3",
   "version": "3.10.1"
  },
  "orig_nbformat": 4
 },
 "nbformat": 4,
 "nbformat_minor": 2
}
