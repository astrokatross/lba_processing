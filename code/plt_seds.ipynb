{
 "cells": [
  {
   "cell_type": "code",
   "execution_count": 2,
   "metadata": {},
   "outputs": [],
   "source": [
    "import numpy as np\n",
    "import matplotlib.pyplot as plt\n",
    "from astropy.io import fits\n",
    "import cmasher as cmr\n",
    "import CFigTools.CustomFigure as CF\n",
    "import gpscssmodels\n",
    "from fitfuncts import read_mwa_fluxes\n",
    "import pandas as pd"
   ]
  },
  {
   "cell_type": "code",
   "execution_count": 18,
   "metadata": {},
   "outputs": [],
   "source": [
    "# Paths and non-changing variables \n",
    "master_data_dir = \"/data/raw_data/\"\n",
    "data_dir = \"/data/LBA/catalogues/\"\n",
    "frequencies = [\"2GHz\", \"8GHz\"]\n",
    "lba_targets = [\"j0227-0621\", \"j0322-482\", \"j2239-451\"]\n",
    "mwa_targets = [\"GLEAM J022744-062106\", \"GLEAM J032237-482010\", \"GLEAM J223933-451414\"]\n",
    "exts = [\n",
    "    \"107\",\n",
    "    \"115\",\n",
    "    \"123\",\n",
    "    \"130\",\n",
    "    \"143\",\n",
    "    \"150\",\n",
    "    \"158\",\n",
    "    \"166\",\n",
    "    \"174\",\n",
    "    \"181\",\n",
    "    \"189\",\n",
    "    \"197\",\n",
    "    \"204\",\n",
    "    \"212\",\n",
    "    \"220\",\n",
    "    \"227\",\n",
    "]\n",
    "mwa_2013_fluxes = [\"S_076\", \"S_084\", \"S_092\", \"S_099\"]\n",
    "mwa_2014_fluxes = []\n",
    "mwa_2013_errors = [\"S_076_err\", \"S_084_err\", \"S_092_err\", \"S_099_err\"]\n",
    "mwa_2014_errors = []\n",
    "mwa_mask_names = [\"S_076\", \"S_084\", \"S_092\", \"S_099\",\"S_076_err\", \"S_084_err\", \"S_092_err\", \"S_099_err\"]\n",
    "for ext in exts:\n",
    "    mwa_2013_fluxes.append(f\"S_{ext}_yr1\")\n",
    "    mwa_2014_fluxes.append(f\"S_{ext}_yr2\")\n",
    "    mwa_2013_errors.append(f\"local_rms_{ext}_yr1\")\n",
    "    mwa_2014_errors.append(f\"local_rms_{ext}_yr2\")\n",
    "    mwa_mask_names.extend((f\"S_{ext}_yr1\", f\"S_{ext}_yr2\",f\"local_rms_{ext}_yr1\", f\"local_rms_{ext}_yr2\"))"
   ]
  },
  {
   "cell_type": "code",
   "execution_count": 11,
   "metadata": {},
   "outputs": [],
   "source": [
    "master_pop_pd = pd.read_csv(f\"{master_data_dir}/master_pop_extended.csv\")\n",
    "lba_mask = master_pop_pd[\"Name\"].isin(mwa_targets)\n",
    "lba_master_pop = master_pop_pd[lba_mask]\n",
    "lba_master_pop = lba_master_pop[mwa_mask_names]"
   ]
  },
  {
   "cell_type": "code",
   "execution_count": 33,
   "metadata": {},
   "outputs": [
    {
     "name": "stdout",
     "output_type": "stream",
     "text": [
      "No catalogue for j0322-482 2GHz\n",
      "No catalogue for j2239-451 2GHz\n"
     ]
    }
   ],
   "source": [
    "# TODO: figure out how I want to store all the data, I am frustrated\n",
    "\n",
    "aegean_mask = [\"int_flux\", \"local_rms\"]\n",
    "for tar in lba_targets:\n",
    "    try:\n",
    "        hdul = fits.open(f\"{data_dir}{tar}_2GHz.fits\")\n",
    "        data = hdul[1].data\n",
    "        hdul.close()\n",
    "        int_flux = np.squeeze(data[\"int_flux\"])\n",
    "        \n",
    "    except FileNotFoundError:\n",
    "        print(f\"No catalogue for {tar} 2GHz\")\n"
   ]
  },
  {
   "cell_type": "code",
   "execution_count": 154,
   "metadata": {},
   "outputs": [
    {
     "name": "stdout",
     "output_type": "stream",
     "text": [
      "[28.176573, 29.26237, 30.483301, 39.003147, 39.294815, 42.721783, 47.811092, 43.550457, 43.427982, 39.987705, 49.847954, 28.388039]\n"
     ]
    }
   ],
   "source": [
    "# int_flux = []\n",
    "# rms = []\n",
    "# snr = []\n",
    "# i=0\n",
    "# for i in range(num_rounds+1):\n",
    "#     hdul = fits.open(f\"{freq}_self{i}_cat_comp.fits\")\n",
    "#     data = hdul[1].data\n",
    "#     hdul.close()\n",
    "\n",
    "#     int_flux.append(max(np.squeeze(data[\"int_flux\"])))\n",
    "#     rms.append(max(np.squeeze(data[\"local_rms\"])))\n",
    "#     snr.append(max(np.squeeze(data[\"int_flux\"]))/np.squeeze(data[\"local_rms\"][0]))\n",
    "# print(snr)\n"
   ]
  }
 ],
 "metadata": {
  "interpreter": {
   "hash": "31f2aee4e71d21fbe5cf8b01ff0e069b9275f58929596ceb00d14d90e3e16cd6"
  },
  "kernelspec": {
   "display_name": "Python 3.8.10 64-bit",
   "language": "python",
   "name": "python3"
  },
  "language_info": {
   "codemirror_mode": {
    "name": "ipython",
    "version": 3
   },
   "file_extension": ".py",
   "mimetype": "text/x-python",
   "name": "python",
   "nbconvert_exporter": "python",
   "pygments_lexer": "ipython3",
   "version": "3.10.1"
  },
  "orig_nbformat": 4
 },
 "nbformat": 4,
 "nbformat_minor": 2
}
